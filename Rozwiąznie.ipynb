{
 "cells": [
  {
   "cell_type": "code",
   "execution_count": 1,
   "metadata": {},
   "outputs": [],
   "source": [
    "import json\n",
    "from typing import List, Tuple\n",
    "\n",
    "import matplotlib.pyplot as plt\n",
    "import numpy as np\n",
    "import pandas as pd\n",
    "import seaborn as sns\n",
    "from sklearn import ensemble\n",
    "from sklearn.metrics import confusion_matrix, precision_recall_fscore_support, roc_curve, auc, accuracy_score\n",
    "from sklearn.model_selection import train_test_split\n",
    "from sklearn.preprocessing import StandardScaler"
   ]
  },
  {
   "cell_type": "code",
   "execution_count": 2,
   "metadata": {},
   "outputs": [],
   "source": [
    "CUSTOMERS_DIR = 'C:/Users/1marc/Desktop/zadanie/Zadanie rekrutacyjne na stanowisko Data Scientist IIIT/'\n",
    "FILE_NAME = \"customers.txt\""
   ]
  },
  {
   "cell_type": "code",
   "execution_count": 3,
   "metadata": {},
   "outputs": [],
   "source": [
    "def load_valid_rows(file_name: str) -> List:\n",
    "    result = []\n",
    "    with open(CUSTOMERS_DIR + file_name, 'r') as f:\n",
    "        for row in f:\n",
    "            try:\n",
    "                result.append(json.loads(row))\n",
    "            except:\n",
    "                pass\n",
    "    return result\n",
    "\n",
    "\n",
    "def parse_json_objects(fraudsters_na_free: pd.DataFrame) -> pd.DataFrame:\n",
    "    orders_flat = fraudsters_na_free[\"orders\"].explode()\n",
    "    orders = pd.json_normalize(orders_flat)\n",
    "    orders['FraudulentId'] = orders_flat.index\n",
    "    paymentMethods = pd.json_normalize(fraudsters_na_free['paymentMethods'].explode())\n",
    "    transactions = pd.json_normalize(fraudsters_na_free['transactions'].explode())\n",
    "    return orders.merge(transactions, left_on='orderId', right_on='orderId').merge(paymentMethods,\n",
    "                                                                                   left_on='paymentMethodId',\n",
    "                                                                                   right_on='paymentMethodId')\n",
    "\n",
    "\n",
    "def validate_missing_data(fraudsters: pd.DataFrame) -> Tuple[pd.DataFrame, pd.DataFrame]:\n",
    "    fraudsters_na_free = fraudsters[\n",
    "        (fraudsters['orders'].str.len() != 0) & (fraudsters['paymentMethods'].str.len() != 0) & (\n",
    "                fraudsters['transactions'].str.len() != 0)]\n",
    "\n",
    "    only_na = fraudsters[~fraudsters.index.isin(fraudsters_na_free.index)]\n",
    "    return fraudsters_na_free, only_na\n",
    "\n",
    "\n",
    "def show_confusion_matrix(cm: np.array):\n",
    "    plt.figure(figsize=(10, 6))\n",
    "    index = ['Not fraudulent', 'Fraudulent']\n",
    "    columns = ['Not fraudulent', 'Fraudulent']\n",
    "    sns.heatmap(pd.DataFrame(cm, columns, index), annot=True, fmt='d')\n",
    "    plt.ylabel('True label')\n",
    "    plt.xlabel('Predicted label')\n",
    "\n",
    "\n",
    "def show_features_importance(importances: pd.Series):\n",
    "    plt.barh(np.arange(len(importances)), importances, alpha=0.7)\n",
    "    plt.yticks(np.arange(.5, len(importances), 1), importances.index)\n",
    "    plt.xlabel('Importance')\n",
    "    plt.ylabel('Feature')\n",
    "    plt.title('Feature importance')\n",
    "    plt.show()\n",
    "\n",
    "\n",
    "def show_roc_curve(fpr: np.array, tpr: np.array):\n",
    "    plt.figure(figsize=(7, 6))\n",
    "    plt.plot(fpr, tpr, color='blue',\n",
    "             label='ROC (AUC = %0.4f)' % auc_score)\n",
    "    plt.legend(loc='lower right')\n",
    "    plt.title(\"ROC Curve\")\n",
    "    plt.xlabel(\"FPR\")\n",
    "    plt.ylabel(\"TPR\")\n",
    "    plt.show()"
   ]
  },
  {
   "cell_type": "code",
   "execution_count": 4,
   "metadata": {},
   "outputs": [],
   "source": [
    "valid_rows = load_valid_rows(FILE_NAME)\n",
    "fraudsters = pd.json_normalize(valid_rows)\n",
    "fraudsters['FraudulentId'] = fraudsters.index"
   ]
  },
  {
   "cell_type": "code",
   "execution_count": 5,
   "metadata": {},
   "outputs": [],
   "source": [
    "fraudsters_na_free, only_na = validate_missing_data(fraudsters)\n",
    "\n",
    "fraudsters_flat = pd.merge(fraudsters_na_free,\n",
    "                   parse_json_objects(fraudsters_na_free),\n",
    "                   left_on='FraudulentId',\n",
    "                   right_on='FraudulentId').drop(['orders', 'paymentMethods', 'transactions'], axis=1)"
   ]
  },
  {
   "cell_type": "code",
   "execution_count": 6,
   "metadata": {},
   "outputs": [
    {
     "data": {
      "text/html": [
       "<div>\n",
       "<style scoped>\n",
       "    .dataframe tbody tr th:only-of-type {\n",
       "        vertical-align: middle;\n",
       "    }\n",
       "\n",
       "    .dataframe tbody tr th {\n",
       "        vertical-align: top;\n",
       "    }\n",
       "\n",
       "    .dataframe thead th {\n",
       "        text-align: right;\n",
       "    }\n",
       "</style>\n",
       "<table border=\"1\" class=\"dataframe\">\n",
       "  <thead>\n",
       "    <tr style=\"text-align: right;\">\n",
       "      <th></th>\n",
       "      <th>fraudulent</th>\n",
       "      <th>orders</th>\n",
       "      <th>paymentMethods</th>\n",
       "      <th>transactions</th>\n",
       "      <th>customer.customerEmail</th>\n",
       "      <th>customer.customerPhone</th>\n",
       "      <th>customer.customerDevice</th>\n",
       "      <th>customer.customerIPAddress</th>\n",
       "      <th>customer.customerBillingAddress</th>\n",
       "      <th>FraudulentId</th>\n",
       "    </tr>\n",
       "  </thead>\n",
       "  <tbody>\n",
       "    <tr>\n",
       "      <th>9</th>\n",
       "      <td>True</td>\n",
       "      <td>[]</td>\n",
       "      <td>[{'paymentMethodId': '37264k8rb', 'paymentMeth...</td>\n",
       "      <td>[]</td>\n",
       "      <td>ubranch@rivera-parker.info</td>\n",
       "      <td>(772)964-8162x6310</td>\n",
       "      <td>6mpx027neyz6sh04n3ue</td>\n",
       "      <td>86.16.65.228</td>\n",
       "      <td>6974 Robertson Common Apt. 902\\nPort Juanside,...</td>\n",
       "      <td>9</td>\n",
       "    </tr>\n",
       "    <tr>\n",
       "      <th>23</th>\n",
       "      <td>True</td>\n",
       "      <td>[]</td>\n",
       "      <td>[{'paymentMethodId': 'e7pkpmorx', 'paymentMeth...</td>\n",
       "      <td>[]</td>\n",
       "      <td>guerramichael@hotmail.com</td>\n",
       "      <td>299-883-0904</td>\n",
       "      <td>webmbgi39hwejv3d90kt</td>\n",
       "      <td>245.38.171.222</td>\n",
       "      <td>13553 Michelle Freeway Apt. 290\\nTammyhaven, G...</td>\n",
       "      <td>23</td>\n",
       "    </tr>\n",
       "    <tr>\n",
       "      <th>34</th>\n",
       "      <td>False</td>\n",
       "      <td>[]</td>\n",
       "      <td>[]</td>\n",
       "      <td>[]</td>\n",
       "      <td>zbennett@frazier.com</td>\n",
       "      <td>995.449.5115x498</td>\n",
       "      <td>zxdd5co6f5pylq9it4x0</td>\n",
       "      <td>e03d:db6e:f5ca:b9cd:d64f:80fe:6177:26e1</td>\n",
       "      <td>89773 Peterson Course Suite 625\\nEast Amandabo...</td>\n",
       "      <td>34</td>\n",
       "    </tr>\n",
       "    <tr>\n",
       "      <th>38</th>\n",
       "      <td>False</td>\n",
       "      <td>[]</td>\n",
       "      <td>[]</td>\n",
       "      <td>[]</td>\n",
       "      <td>xwang@white.com</td>\n",
       "      <td>592.309.4963x427</td>\n",
       "      <td>1qj6z7funp3l28ym8trh</td>\n",
       "      <td>7891:9f08:9ac6:c816:7c58:26cd:ff2c:7ddc</td>\n",
       "      <td>139 Ramirez Island Suite 885\\nNew Joan, MT 69993</td>\n",
       "      <td>38</td>\n",
       "    </tr>\n",
       "    <tr>\n",
       "      <th>40</th>\n",
       "      <td>True</td>\n",
       "      <td>[]</td>\n",
       "      <td>[{'paymentMethodId': 'vogv964fe', 'paymentMeth...</td>\n",
       "      <td>[]</td>\n",
       "      <td>johnlowery@gmail.com</td>\n",
       "      <td>737-377-9701x577</td>\n",
       "      <td>jz66ap43id2y35ivfqa5</td>\n",
       "      <td>6c21:ac1d:2089:68fa:abb7:8c00:525f:6588</td>\n",
       "      <td>08238 Kyle Squares Suite 893\\nMillermouth, IN ...</td>\n",
       "      <td>40</td>\n",
       "    </tr>\n",
       "  </tbody>\n",
       "</table>\n",
       "</div>"
      ],
      "text/plain": [
       "    fraudulent orders                                     paymentMethods  \\\n",
       "9         True     []  [{'paymentMethodId': '37264k8rb', 'paymentMeth...   \n",
       "23        True     []  [{'paymentMethodId': 'e7pkpmorx', 'paymentMeth...   \n",
       "34       False     []                                                 []   \n",
       "38       False     []                                                 []   \n",
       "40        True     []  [{'paymentMethodId': 'vogv964fe', 'paymentMeth...   \n",
       "\n",
       "   transactions      customer.customerEmail customer.customerPhone  \\\n",
       "9            []  ubranch@rivera-parker.info     (772)964-8162x6310   \n",
       "23           []   guerramichael@hotmail.com           299-883-0904   \n",
       "34           []        zbennett@frazier.com       995.449.5115x498   \n",
       "38           []             xwang@white.com       592.309.4963x427   \n",
       "40           []        johnlowery@gmail.com       737-377-9701x577   \n",
       "\n",
       "   customer.customerDevice               customer.customerIPAddress  \\\n",
       "9     6mpx027neyz6sh04n3ue                             86.16.65.228   \n",
       "23    webmbgi39hwejv3d90kt                           245.38.171.222   \n",
       "34    zxdd5co6f5pylq9it4x0  e03d:db6e:f5ca:b9cd:d64f:80fe:6177:26e1   \n",
       "38    1qj6z7funp3l28ym8trh  7891:9f08:9ac6:c816:7c58:26cd:ff2c:7ddc   \n",
       "40    jz66ap43id2y35ivfqa5  6c21:ac1d:2089:68fa:abb7:8c00:525f:6588   \n",
       "\n",
       "                      customer.customerBillingAddress  FraudulentId  \n",
       "9   6974 Robertson Common Apt. 902\\nPort Juanside,...             9  \n",
       "23  13553 Michelle Freeway Apt. 290\\nTammyhaven, G...            23  \n",
       "34  89773 Peterson Course Suite 625\\nEast Amandabo...            34  \n",
       "38   139 Ramirez Island Suite 885\\nNew Joan, MT 69993            38  \n",
       "40  08238 Kyle Squares Suite 893\\nMillermouth, IN ...            40  "
      ]
     },
     "execution_count": 6,
     "metadata": {},
     "output_type": "execute_result"
    }
   ],
   "source": [
    "only_na.head(5)"
   ]
  },
  {
   "cell_type": "markdown",
   "metadata": {},
   "source": [
    "As we can see above, for some rows values in several columns are empty, so we won't use them further."
   ]
  },
  {
   "cell_type": "code",
   "execution_count": 7,
   "metadata": {},
   "outputs": [
    {
     "data": {
      "text/html": [
       "<div>\n",
       "<style scoped>\n",
       "    .dataframe tbody tr th:only-of-type {\n",
       "        vertical-align: middle;\n",
       "    }\n",
       "\n",
       "    .dataframe tbody tr th {\n",
       "        vertical-align: top;\n",
       "    }\n",
       "\n",
       "    .dataframe thead th {\n",
       "        text-align: right;\n",
       "    }\n",
       "</style>\n",
       "<table border=\"1\" class=\"dataframe\">\n",
       "  <thead>\n",
       "    <tr style=\"text-align: right;\">\n",
       "      <th></th>\n",
       "      <th>fraudulent</th>\n",
       "      <th>customer.customerEmail</th>\n",
       "      <th>customer.customerPhone</th>\n",
       "      <th>customer.customerDevice</th>\n",
       "      <th>customer.customerIPAddress</th>\n",
       "      <th>customer.customerBillingAddress</th>\n",
       "      <th>FraudulentId</th>\n",
       "      <th>orderId</th>\n",
       "      <th>orderAmount</th>\n",
       "      <th>orderState</th>\n",
       "      <th>orderShippingAddress</th>\n",
       "      <th>transactionId</th>\n",
       "      <th>paymentMethodId</th>\n",
       "      <th>transactionAmount</th>\n",
       "      <th>transactionFailed</th>\n",
       "      <th>paymentMethodRegistrationFailure</th>\n",
       "      <th>paymentMethodType</th>\n",
       "      <th>paymentMethodProvider</th>\n",
       "      <th>paymentMethodIssuer</th>\n",
       "    </tr>\n",
       "  </thead>\n",
       "  <tbody>\n",
       "    <tr>\n",
       "      <th>0</th>\n",
       "      <td>False</td>\n",
       "      <td>josephhoward@yahoo.com</td>\n",
       "      <td>400-108-5415</td>\n",
       "      <td>yyeiaxpltf82440jnb3v</td>\n",
       "      <td>8.129.104.40</td>\n",
       "      <td>5493 Jones Islands\\nBrownside, CA 51896</td>\n",
       "      <td>0</td>\n",
       "      <td>vjbdvd</td>\n",
       "      <td>18</td>\n",
       "      <td>pending</td>\n",
       "      <td>5493 Jones Islands\\nBrownside, CA 51896</td>\n",
       "      <td>a9lcj51r</td>\n",
       "      <td>wt07xm68b</td>\n",
       "      <td>18</td>\n",
       "      <td>False</td>\n",
       "      <td>True</td>\n",
       "      <td>card</td>\n",
       "      <td>JCB 16 digit</td>\n",
       "      <td>Citizens First Banks</td>\n",
       "    </tr>\n",
       "    <tr>\n",
       "      <th>1</th>\n",
       "      <td>False</td>\n",
       "      <td>josephhoward@yahoo.com</td>\n",
       "      <td>400-108-5415</td>\n",
       "      <td>yyeiaxpltf82440jnb3v</td>\n",
       "      <td>8.129.104.40</td>\n",
       "      <td>5493 Jones Islands\\nBrownside, CA 51896</td>\n",
       "      <td>0</td>\n",
       "      <td>yp6x27</td>\n",
       "      <td>26</td>\n",
       "      <td>fulfilled</td>\n",
       "      <td>5493 Jones Islands\\nBrownside, CA 51896</td>\n",
       "      <td>y4wcv03i</td>\n",
       "      <td>wt07xm68b</td>\n",
       "      <td>26</td>\n",
       "      <td>False</td>\n",
       "      <td>True</td>\n",
       "      <td>card</td>\n",
       "      <td>JCB 16 digit</td>\n",
       "      <td>Citizens First Banks</td>\n",
       "    </tr>\n",
       "    <tr>\n",
       "      <th>2</th>\n",
       "      <td>True</td>\n",
       "      <td>evansjeffery@yahoo.com</td>\n",
       "      <td>1-788-091-7546</td>\n",
       "      <td>r0jpm7xaeqqa3kr6mzum</td>\n",
       "      <td>219.173.211.202</td>\n",
       "      <td>356 Elizabeth Inlet Suite 120\\nPort Joshuabury...</td>\n",
       "      <td>1</td>\n",
       "      <td>nlghpa</td>\n",
       "      <td>45</td>\n",
       "      <td>fulfilled</td>\n",
       "      <td>898 Henry Ports\\nNew Keithview, CA 95893-2497</td>\n",
       "      <td>5mi94sfw</td>\n",
       "      <td>41ug157xz</td>\n",
       "      <td>45</td>\n",
       "      <td>False</td>\n",
       "      <td>False</td>\n",
       "      <td>bitcoin</td>\n",
       "      <td>American Express</td>\n",
       "      <td>Bastion Banks</td>\n",
       "    </tr>\n",
       "    <tr>\n",
       "      <th>3</th>\n",
       "      <td>True</td>\n",
       "      <td>evansjeffery@yahoo.com</td>\n",
       "      <td>1-788-091-7546</td>\n",
       "      <td>r0jpm7xaeqqa3kr6mzum</td>\n",
       "      <td>219.173.211.202</td>\n",
       "      <td>356 Elizabeth Inlet Suite 120\\nPort Joshuabury...</td>\n",
       "      <td>1</td>\n",
       "      <td>uw0eeb</td>\n",
       "      <td>23</td>\n",
       "      <td>fulfilled</td>\n",
       "      <td>356 Elizabeth Inlet Suite 120\\nPort Joshuabury...</td>\n",
       "      <td>br8ba1nu</td>\n",
       "      <td>41ug157xz</td>\n",
       "      <td>23</td>\n",
       "      <td>False</td>\n",
       "      <td>False</td>\n",
       "      <td>bitcoin</td>\n",
       "      <td>American Express</td>\n",
       "      <td>Bastion Banks</td>\n",
       "    </tr>\n",
       "    <tr>\n",
       "      <th>4</th>\n",
       "      <td>True</td>\n",
       "      <td>evansjeffery@yahoo.com</td>\n",
       "      <td>1-788-091-7546</td>\n",
       "      <td>r0jpm7xaeqqa3kr6mzum</td>\n",
       "      <td>219.173.211.202</td>\n",
       "      <td>356 Elizabeth Inlet Suite 120\\nPort Joshuabury...</td>\n",
       "      <td>1</td>\n",
       "      <td>bn44oh</td>\n",
       "      <td>43</td>\n",
       "      <td>fulfilled</td>\n",
       "      <td>5093 Bryan Forks\\nJoshuaton, FM 01565-9801</td>\n",
       "      <td>a33145ss</td>\n",
       "      <td>y3xp697jx</td>\n",
       "      <td>43</td>\n",
       "      <td>True</td>\n",
       "      <td>True</td>\n",
       "      <td>bitcoin</td>\n",
       "      <td>VISA 16 digit</td>\n",
       "      <td>Solace Banks</td>\n",
       "    </tr>\n",
       "  </tbody>\n",
       "</table>\n",
       "</div>"
      ],
      "text/plain": [
       "   fraudulent  customer.customerEmail customer.customerPhone  \\\n",
       "0       False  josephhoward@yahoo.com           400-108-5415   \n",
       "1       False  josephhoward@yahoo.com           400-108-5415   \n",
       "2        True  evansjeffery@yahoo.com         1-788-091-7546   \n",
       "3        True  evansjeffery@yahoo.com         1-788-091-7546   \n",
       "4        True  evansjeffery@yahoo.com         1-788-091-7546   \n",
       "\n",
       "  customer.customerDevice customer.customerIPAddress  \\\n",
       "0    yyeiaxpltf82440jnb3v               8.129.104.40   \n",
       "1    yyeiaxpltf82440jnb3v               8.129.104.40   \n",
       "2    r0jpm7xaeqqa3kr6mzum            219.173.211.202   \n",
       "3    r0jpm7xaeqqa3kr6mzum            219.173.211.202   \n",
       "4    r0jpm7xaeqqa3kr6mzum            219.173.211.202   \n",
       "\n",
       "                     customer.customerBillingAddress  FraudulentId orderId  \\\n",
       "0            5493 Jones Islands\\nBrownside, CA 51896             0  vjbdvd   \n",
       "1            5493 Jones Islands\\nBrownside, CA 51896             0  yp6x27   \n",
       "2  356 Elizabeth Inlet Suite 120\\nPort Joshuabury...             1  nlghpa   \n",
       "3  356 Elizabeth Inlet Suite 120\\nPort Joshuabury...             1  uw0eeb   \n",
       "4  356 Elizabeth Inlet Suite 120\\nPort Joshuabury...             1  bn44oh   \n",
       "\n",
       "   orderAmount orderState                               orderShippingAddress  \\\n",
       "0           18    pending            5493 Jones Islands\\nBrownside, CA 51896   \n",
       "1           26  fulfilled            5493 Jones Islands\\nBrownside, CA 51896   \n",
       "2           45  fulfilled      898 Henry Ports\\nNew Keithview, CA 95893-2497   \n",
       "3           23  fulfilled  356 Elizabeth Inlet Suite 120\\nPort Joshuabury...   \n",
       "4           43  fulfilled         5093 Bryan Forks\\nJoshuaton, FM 01565-9801   \n",
       "\n",
       "  transactionId paymentMethodId  transactionAmount  transactionFailed  \\\n",
       "0      a9lcj51r       wt07xm68b                 18              False   \n",
       "1      y4wcv03i       wt07xm68b                 26              False   \n",
       "2      5mi94sfw       41ug157xz                 45              False   \n",
       "3      br8ba1nu       41ug157xz                 23              False   \n",
       "4      a33145ss       y3xp697jx                 43               True   \n",
       "\n",
       "   paymentMethodRegistrationFailure paymentMethodType paymentMethodProvider  \\\n",
       "0                              True              card          JCB 16 digit   \n",
       "1                              True              card          JCB 16 digit   \n",
       "2                             False           bitcoin      American Express   \n",
       "3                             False           bitcoin      American Express   \n",
       "4                              True           bitcoin         VISA 16 digit   \n",
       "\n",
       "    paymentMethodIssuer  \n",
       "0  Citizens First Banks  \n",
       "1  Citizens First Banks  \n",
       "2         Bastion Banks  \n",
       "3         Bastion Banks  \n",
       "4          Solace Banks  "
      ]
     },
     "execution_count": 7,
     "metadata": {},
     "output_type": "execute_result"
    }
   ],
   "source": [
    "fraudsters_flat.head(5)"
   ]
  },
  {
   "cell_type": "code",
   "execution_count": 8,
   "metadata": {},
   "outputs": [
    {
     "data": {
      "text/plain": [
       "True"
      ]
     },
     "execution_count": 8,
     "metadata": {},
     "output_type": "execute_result"
    }
   ],
   "source": [
    "all(fraudsters_flat[\"orderAmount\"] == fraudsters_flat['transactionAmount'])"
   ]
  },
  {
   "cell_type": "markdown",
   "metadata": {},
   "source": [
    "I check if `\"orderAmount\"` column has the same values as `'transactionAmount'` column."
   ]
  },
  {
   "cell_type": "code",
   "execution_count": 9,
   "metadata": {},
   "outputs": [],
   "source": [
    "cols_to_factorize = [\"fraudulent\", \"orderState\",\n",
    "                     'transactionFailed', 'paymentMethodRegistrationFailure',\n",
    "                     'paymentMethodType', 'paymentMethodProvider', 'paymentMethodIssuer']\n",
    "\n",
    "for col in cols_to_factorize:\n",
    "    fraudsters_flat[col] = pd.factorize(fraudsters_flat[col])[0]"
   ]
  },
  {
   "cell_type": "code",
   "execution_count": 10,
   "metadata": {},
   "outputs": [],
   "source": [
    "X_cols = [\"orderAmount\", \"orderState\",\n",
    "          'transactionFailed', 'paymentMethodRegistrationFailure',\n",
    "          'paymentMethodType', 'paymentMethodProvider', 'paymentMethodIssuer']\n",
    "\n",
    "Y_cols = [\"fraudulent\"]\n",
    "\n",
    "X = fraudsters_flat[X_cols]\n",
    "y = fraudsters_flat[Y_cols]"
   ]
  },
  {
   "cell_type": "code",
   "execution_count": 11,
   "metadata": {},
   "outputs": [],
   "source": [
    "train_X, test_X, train_y, test_y = train_test_split(X, y, test_size=0.6, random_state=2)"
   ]
  },
  {
   "cell_type": "markdown",
   "metadata": {},
   "source": [
    "I encode categorical variables and choose potential explanatory variables, then I split dataset into test and trainging sets. "
   ]
  },
  {
   "cell_type": "code",
   "execution_count": 12,
   "metadata": {},
   "outputs": [],
   "source": [
    "scaler = StandardScaler()\n",
    "\n",
    "train_X = scaler.fit_transform(train_X)\n",
    "test_X = scaler.transform(test_X)"
   ]
  },
  {
   "cell_type": "code",
   "execution_count": 13,
   "metadata": {},
   "outputs": [],
   "source": [
    "Ntrees = 50\n",
    "m = np.sqrt(train_X.shape[1]).astype(int)"
   ]
  },
  {
   "cell_type": "code",
   "execution_count": 14,
   "metadata": {},
   "outputs": [],
   "source": [
    "clf = ensemble.RandomForestClassifier(n_estimators=Ntrees, max_features=m, random_state=0, n_jobs=-1)\n",
    "clf.fit(train_X, train_y.values.ravel())\n",
    "clf.score(test_X, test_y)\n",
    "pred = clf.predict(test_X)"
   ]
  },
  {
   "cell_type": "code",
   "execution_count": 15,
   "metadata": {},
   "outputs": [],
   "source": [
    "clf_result = precision_recall_fscore_support(test_y, pred)"
   ]
  },
  {
   "cell_type": "markdown",
   "metadata": {},
   "source": [
    "### Accuracy"
   ]
  },
  {
   "cell_type": "code",
   "execution_count": 16,
   "metadata": {},
   "outputs": [
    {
     "data": {
      "text/plain": [
       "0.7887700534759359"
      ]
     },
     "execution_count": 16,
     "metadata": {},
     "output_type": "execute_result"
    }
   ],
   "source": [
    "accuracy_score(test_y, pred)"
   ]
  },
  {
   "cell_type": "markdown",
   "metadata": {},
   "source": [
    "Almost 79% of classes were detected properly."
   ]
  },
  {
   "cell_type": "markdown",
   "metadata": {},
   "source": [
    "### Confusion matrix"
   ]
  },
  {
   "cell_type": "code",
   "execution_count": 17,
   "metadata": {
    "scrolled": true
   },
   "outputs": [
    {
     "data": {
      "image/png": "[encoded data removed]",
      "text/plain": [
       "<Figure size 720x432 with 2 Axes>"
      ]
     },
     "metadata": {
      "needs_background": "light"
     },
     "output_type": "display_data"
    }
   ],
   "source": [
    "cm_rf = confusion_matrix(test_y, pred)\n",
    "report_rf = precision_recall_fscore_support(list(np.array(test_y)), list(pred), average='binary')\n",
    "show_confusion_matrix(cm_rf)"
   ]
  },
  {
   "cell_type": "markdown",
   "metadata": {},
   "source": [
    "Model detects better `Not fraudulent` class than `Fraudulent`."
   ]
  },
  {
   "cell_type": "markdown",
   "metadata": {},
   "source": [
    "### AUC & ROC Curve "
   ]
  },
  {
   "cell_type": "code",
   "execution_count": 18,
   "metadata": {},
   "outputs": [
    {
     "data": {
      "image/png": "[encoded data removed]",
      "text/plain": [
       "<Figure size 504x432 with 1 Axes>"
      ]
     },
     "metadata": {
      "needs_background": "light"
     },
     "output_type": "display_data"
    }
   ],
   "source": [
    "fpr, tpr, _ = roc_curve(test_y, pred)\n",
    "auc_score = auc(fpr, tpr)\n",
    "show_roc_curve(fpr, tpr)"
   ]
  },
  {
   "cell_type": "markdown",
   "metadata": {},
   "source": [
    "AUC score is relativly good."
   ]
  },
  {
   "cell_type": "markdown",
   "metadata": {},
   "source": [
    "### Features importance"
   ]
  },
  {
   "cell_type": "code",
   "execution_count": 19,
   "metadata": {},
   "outputs": [
    {
     "data": {
      "image/png": "[encoded data removed]",
      "text/plain": [
       "<Figure size 432x288 with 1 Axes>"
      ]
     },
     "metadata": {
      "needs_background": "light"
     },
     "output_type": "display_data"
    }
   ],
   "source": [
    "importances = pd.Series(clf.feature_importances_, index=X_cols).sort_values()\n",
    "show_features_importance(importances)"
   ]
  },
  {
   "cell_type": "markdown",
   "metadata": {},
   "source": [
    "From the feature importance measures, we see that orderAmount, paymentMethodIssuer and paymentMethodProvider have the highes importance."
   ]
  }
 ],
 "metadata": {
  "kernelspec": {
   "display_name": "Python 3",
   "language": "python",
   "name": "python3"
  },
  "language_info": {
   "codemirror_mode": {
    "name": "ipython",
    "version": 3
   },
   "file_extension": ".py",
   "mimetype": "text/x-python",
   "name": "python",
   "nbconvert_exporter": "python",
   "pygments_lexer": "ipython3",
   "version": "3.7.6"
  }
 },
 "nbformat": 4,
 "nbformat_minor": 4
}
